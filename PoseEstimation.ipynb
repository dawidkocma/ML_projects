{
 "cells": [
  {
   "cell_type": "markdown",
   "id": "b14aa15f",
   "metadata": {},
   "source": [
    "import cv2 as cv\n",
    "import matplotlib.pyploy as plt"
   ]
  },
  {
   "cell_type": "code",
   "execution_count": null,
   "id": "57a920cf",
   "metadata": {},
   "outputs": [],
   "source": [
    "net = cv.dnn.readNetFromTensorflow(\"graph_opt.pb\")"
   ]
  }
 ],
 "metadata": {
  "kernelspec": {
   "display_name": "Python 3 (ipykernel)",
   "language": "python",
   "name": "python3"
  },
  "language_info": {
   "codemirror_mode": {
    "name": "ipython",
    "version": 3
   },
   "file_extension": ".py",
   "mimetype": "text/x-python",
   "name": "python",
   "nbconvert_exporter": "python",
   "pygments_lexer": "ipython3",
   "version": "3.8.4"
  }
 },
 "nbformat": 4,
 "nbformat_minor": 5
}
